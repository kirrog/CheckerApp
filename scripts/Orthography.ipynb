{
 "nbformat": 4,
 "nbformat_minor": 0,
 "metadata": {
  "colab": {
   "provenance": []
  },
  "kernelspec": {
   "name": "python3",
   "display_name": "Python 3"
  },
  "language_info": {
   "name": "python"
  },
  "accelerator": "GPU",
  "gpuClass": "standard"
 },
 "cells": [
  {
   "cell_type": "code",
   "execution_count": 5,
   "outputs": [],
   "source": [
    "import re\n",
    "from tqdm import tqdm\n",
    "import numpy as np\n",
    "import random\n",
    "from pathlib import Path\n",
    "from sklearn.model_selection import train_test_split"
   ],
   "metadata": {
    "collapsed": false
   }
  },
  {
   "cell_type": "code",
   "execution_count": null,
   "metadata": {
    "colab": {
     "base_uri": "https://localhost:8080/"
    },
    "id": "DINXU2nGTHBZ",
    "outputId": "190d7de1-a41f-4572-ad0e-5b92df43fec9"
   },
   "outputs": [],
   "source": [
    "from google.colab import drive\n",
    "\n",
    "drive.mount('/content/drive/')"
   ]
  },
  {
   "cell_type": "code",
   "source": [
    "path_to_data = \"/home/kirrog/projects/CheckerApp/dataset/lenta-ru-news.csv\""
   ],
   "metadata": {
    "id": "iy14IxfaUR9G"
   },
   "execution_count": null,
   "outputs": []
  },
  {
   "cell_type": "code",
   "source": [
    "def cut_text(text: str):\n",
    "    d = \"\"\n",
    "    try:\n",
    "        d = \" \".join(text[max(text.index(\",\\\"\") + 2, text.index(\"/,\") + 2):text.index(\"\\\",\")].split())\n",
    "    except Exception as e:\n",
    "        print(e)\n",
    "    return d"
   ],
   "metadata": {
    "id": "AxuNPMO4UmZ3"
   },
   "execution_count": null,
   "outputs": []
  },
  {
   "cell_type": "code",
   "execution_count": null,
   "outputs": [],
   "source": [
    "with open(path_to_data, \"r\") as f:\n",
    "    data_l = f.read().split(\"https://\")"
   ],
   "metadata": {
    "collapsed": false
   }
  },
  {
   "cell_type": "code",
   "source": [
    "r = []\n",
    "for l in data_l:\n",
    "    d = cut_text(l)\n",
    "    if d != \"\":\n",
    "        r.append(d)"
   ],
   "metadata": {
    "id": "VJ-GCNQiUn4z"
   },
   "execution_count": null,
   "outputs": []
  },
  {
   "cell_type": "code",
   "source": [
    "len(data_l)"
   ],
   "metadata": {
    "colab": {
     "base_uri": "https://localhost:8080/"
    },
    "id": "B9jS_QPoUyp2",
    "outputId": "87478b14-f7da-4c0f-a587-7026dfad5776"
   },
   "execution_count": null,
   "outputs": []
  },
  {
   "cell_type": "code",
   "execution_count": null,
   "outputs": [],
   "source": [
    "data_l = None"
   ],
   "metadata": {
    "collapsed": false
   }
  },
  {
   "cell_type": "code",
   "source": [
    "len(r)"
   ],
   "metadata": {
    "colab": {
     "base_uri": "https://localhost:8080/"
    },
    "id": "GjKqL1iTU2lj",
    "outputId": "5512fdfb-95e9-41f0-b5c7-12902b17c8f1"
   },
   "execution_count": null,
   "outputs": []
  },
  {
   "cell_type": "code",
   "execution_count": null,
   "outputs": [],
   "source": [
    "r[0]"
   ],
   "metadata": {
    "collapsed": false
   }
  },
  {
   "cell_type": "code",
   "execution_count": null,
   "outputs": [],
   "source": [
    "r = [re.sub('\\n', f\"\", x) for x in r]"
   ],
   "metadata": {
    "collapsed": false
   }
  },
  {
   "cell_type": "code",
   "execution_count": 1,
   "outputs": [],
   "source": [
    "clean_text_path = \"/home/kirrog/projects/CheckerApp/dataset/lenta-ru-news-only-text.txt\""
   ],
   "metadata": {
    "collapsed": false
   }
  },
  {
   "cell_type": "code",
   "execution_count": null,
   "outputs": [],
   "source": [
    "with open(clean_text_path, \"w\") as f:\n",
    "    for line in r:\n",
    "        f.write(f\"{line}\\n\")"
   ],
   "metadata": {
    "collapsed": false
   }
  },
  {
   "cell_type": "code",
   "execution_count": 2,
   "outputs": [],
   "source": [
    "with open(clean_text_path, \"r\") as f:\n",
    "    r = f.read().split(\"\\n\")"
   ],
   "metadata": {
    "collapsed": false
   }
  },
  {
   "cell_type": "code",
   "execution_count": null,
   "outputs": [],
   "source": [
    "r[0]"
   ],
   "metadata": {
    "collapsed": false
   }
  },
  {
   "cell_type": "code",
   "execution_count": 3,
   "outputs": [],
   "source": [
    "string_russian = \"абвгдежзийклмнопрстуфхцчшщъыьэюя\"\n",
    "augment_rate = 0.1\n",
    "\n",
    "\n",
    "def augment_text(text: str):\n",
    "    new_words = []\n",
    "    words = text.split(\" \")\n",
    "    for w in words:\n",
    "        if random.random() < augment_rate:\n",
    "            pos = int((len(w) - 1) * random.random())\n",
    "            try:\n",
    "                if w[pos] in string_russian:\n",
    "                    nw = w[:pos] + string_russian[int((len(string_russian) - 1) * random.random())] + w[pos + 1:]\n",
    "                    w = nw\n",
    "            except Exception as e:\n",
    "                print(f\"pos: {pos} word: {w} text: {text}\")\n",
    "        new_words.append(w)\n",
    "    return \" \".join(new_words)"
   ],
   "metadata": {
    "collapsed": false
   }
  },
  {
   "cell_type": "code",
   "execution_count": 4,
   "outputs": [
    {
     "ename": "NameError",
     "evalue": "name 'tqdm' is not defined",
     "output_type": "error",
     "traceback": [
      "\u001B[0;31m---------------------------------------------------------------------------\u001B[0m",
      "\u001B[0;31mNameError\u001B[0m                                 Traceback (most recent call last)",
      "Cell \u001B[0;32mIn[4], line 1\u001B[0m\n\u001B[0;32m----> 1\u001B[0m data_augment \u001B[38;5;241m=\u001B[39m [augment_text(x) \u001B[38;5;28;01mfor\u001B[39;00m x \u001B[38;5;129;01min\u001B[39;00m \u001B[43mtqdm\u001B[49m(r)]\n",
      "\u001B[0;31mNameError\u001B[0m: name 'tqdm' is not defined"
     ]
    }
   ],
   "source": [
    "data_augment = [augment_text(x) for x in tqdm(r)]"
   ],
   "metadata": {
    "collapsed": false
   }
  },
  {
   "cell_type": "code",
   "execution_count": 6,
   "outputs": [],
   "source": [
    "augment_text_path = \"/home/kirrog/projects/CheckerApp/dataset/lenta-ru-news-augment-text.txt\""
   ],
   "metadata": {
    "collapsed": false
   }
  },
  {
   "cell_type": "code",
   "execution_count": null,
   "outputs": [],
   "source": [
    "with open(augment_text_path, \"w\") as f:\n",
    "    for line in data_augment:\n",
    "        f.write(f\"{line}\\n\")"
   ],
   "metadata": {
    "collapsed": false
   }
  },
  {
   "cell_type": "code",
   "execution_count": 7,
   "outputs": [],
   "source": [
    "with open(augment_text_path, \"r\") as f:\n",
    "    data_augment = f.read().split(\"\\n\")"
   ],
   "metadata": {
    "collapsed": false
   }
  },
  {
   "cell_type": "code",
   "source": [
    "def slit_to_train_test_valid(data):\n",
    "    tr, te = train_test_split(data, test_size=0.30, shuffle=False)\n",
    "    test, valid = train_test_split(te, test_size=0.33, shuffle=False)\n",
    "    return tr, test, valid"
   ],
   "metadata": {
    "id": "1vnaj1-zViJu"
   },
   "execution_count": 8,
   "outputs": []
  },
  {
   "cell_type": "code",
   "execution_count": 9,
   "outputs": [
    {
     "data": {
      "text/plain": "Downloading:   0%|          | 0.00/24.0 [00:00<?, ?B/s]",
      "application/vnd.jupyter.widget-view+json": {
       "version_major": 2,
       "version_minor": 0,
       "model_id": "c2ed5d75601649889916fe96e9f31537"
      }
     },
     "metadata": {},
     "output_type": "display_data"
    },
    {
     "data": {
      "text/plain": "Downloading:   0%|          | 0.00/642 [00:00<?, ?B/s]",
      "application/vnd.jupyter.widget-view+json": {
       "version_major": 2,
       "version_minor": 0,
       "model_id": "49094a19aaf449a79b26affa954a7527"
      }
     },
     "metadata": {},
     "output_type": "display_data"
    },
    {
     "data": {
      "text/plain": "Downloading:   0%|          | 0.00/1.65M [00:00<?, ?B/s]",
      "application/vnd.jupyter.widget-view+json": {
       "version_major": 2,
       "version_minor": 0,
       "model_id": "26935c0ae0df48af9838a8034bd60250"
      }
     },
     "metadata": {},
     "output_type": "display_data"
    },
    {
     "data": {
      "text/plain": "Downloading:   0%|          | 0.00/112 [00:00<?, ?B/s]",
      "application/vnd.jupyter.widget-view+json": {
       "version_major": 2,
       "version_minor": 0,
       "model_id": "66f00236d6ad4eadbe0a1e09c306203e"
      }
     },
     "metadata": {},
     "output_type": "display_data"
    }
   ],
   "source": [
    "from transformers import AutoTokenizer\n",
    "\n",
    "tokenizer = AutoTokenizer.from_pretrained(\"DeepPavlov/rubert-base-cased-sentence\")"
   ],
   "metadata": {
    "collapsed": false
   }
  },
  {
   "cell_type": "code",
   "execution_count": 10,
   "outputs": [],
   "source": [
    "bert_tokens = {\n",
    "    'START_SEQ': 101,\n",
    "    'PAD': 0,\n",
    "    'END_SEQ': 102,\n",
    "    'UNK': 100\n",
    "}"
   ],
   "metadata": {
    "collapsed": false
   }
  },
  {
   "cell_type": "code",
   "execution_count": 11,
   "outputs": [],
   "source": [
    "from typing import List\n",
    "\n",
    "\n",
    "def fill_matrix_with_tokens(texts: List[str]) -> np.array:\n",
    "    matrix = np.ones((len(texts), 768), dtype=np.int32) * bert_tokens[\"UNK\"]\n",
    "    counter = 0\n",
    "    inp_size = 768\n",
    "    for i, text_ in tqdm(enumerate(texts), desc=\"tokenizing\", total=len(texts)):\n",
    "        tokens = [bert_tokens[\"START_SEQ\"]] + tokenizer.convert_tokens_to_ids(tokenizer.tokenize(text_)) + [\n",
    "            bert_tokens[\"END_SEQ\"]]\n",
    "        threshold = min(inp_size, len(tokens))\n",
    "        if threshold > inp_size:\n",
    "            counter+=1\n",
    "        matrix[i, 0: threshold] = tokens[:threshold]\n",
    "    print(f\"Cutted: {counter}\")\n",
    "    return matrix\n"
   ],
   "metadata": {
    "collapsed": false
   }
  },
  {
   "cell_type": "code",
   "execution_count": 12,
   "outputs": [],
   "source": [
    "def save_as_train_test_valid_data(dir, prefix, data):\n",
    "    train, test, valid = slit_to_train_test_valid(data)\n",
    "    train_path = Path(dir) / (prefix + \"_train.npy\")\n",
    "    test_path = Path(dir) / (prefix + \"_test.npy\")\n",
    "    valid_path = Path(dir) / (prefix + \"_valid.npy\")\n",
    "    np.save(str(train_path), fill_matrix_with_tokens(train))\n",
    "    np.save(str(test_path), fill_matrix_with_tokens(test))\n",
    "    np.save(str(valid_path), fill_matrix_with_tokens(valid))"
   ],
   "metadata": {
    "collapsed": false
   }
  },
  {
   "cell_type": "code",
   "execution_count": 13,
   "outputs": [
    {
     "data": {
      "text/plain": "799743"
     },
     "execution_count": 13,
     "metadata": {},
     "output_type": "execute_result"
    }
   ],
   "source": [
    "len(r)"
   ],
   "metadata": {
    "collapsed": false
   }
  },
  {
   "cell_type": "code",
   "execution_count": 14,
   "outputs": [
    {
     "data": {
      "text/plain": "'Бои у Сопоцкина и Друскеник закончились отступлением германцев. Неприятель, приблизившись с севера к Осовцу начал артиллерийскую борьбу с крепостью. В артиллерийском бою принимают участие тяжелые калибры. С раннего утра 14 сентября огонь достиг значительного напряжения. Попытка германской пехоты пробиться ближе к крепости отражена. В Галиции мы заняли Дембицу. Большая колонна, отступавшая по шоссе от Перемышля к Саноку, обстреливалась с высот нашей батареей и бежала, бросив парки, обоз и автомобили. Вылазки гарнизона Перемышля остаются безуспешными. При продолжающемся отступлении австрийцев обнаруживается полное перемешивание их частей, захватываются новые партии пленных, орудия и прочая материальная часть. На перевале Ужок мы разбили неприятельский отряд, взяли его артиллерию и много пленных и, продолжая преследовать, вступили в пределы Венгрии. «Русский инвалид», 16 сентября 1914 года.'"
     },
     "execution_count": 14,
     "metadata": {},
     "output_type": "execute_result"
    }
   ],
   "source": [
    "r[0]"
   ],
   "metadata": {
    "collapsed": false
   }
  },
  {
   "cell_type": "code",
   "execution_count": 15,
   "outputs": [
    {
     "name": "stderr",
     "output_type": "stream",
     "text": [
      "tokenizing: 100%|██████████| 559820/559820 [04:20<00:00, 2148.12it/s]\n"
     ]
    },
    {
     "name": "stdout",
     "output_type": "stream",
     "text": [
      "Cutted: 0\n"
     ]
    },
    {
     "name": "stderr",
     "output_type": "stream",
     "text": [
      "tokenizing: 100%|██████████| 160748/160748 [01:49<00:00, 1467.04it/s]\n"
     ]
    },
    {
     "name": "stdout",
     "output_type": "stream",
     "text": [
      "Cutted: 0\n"
     ]
    },
    {
     "name": "stderr",
     "output_type": "stream",
     "text": [
      "tokenizing: 100%|██████████| 79175/79175 [00:56<00:00, 1407.38it/s]\n"
     ]
    },
    {
     "name": "stdout",
     "output_type": "stream",
     "text": [
      "Cutted: 0\n"
     ]
    }
   ],
   "source": [
    "save_as_train_test_valid_data(\"/home/kirrog/projects/CheckerApp/dataset\", \"clean\", r)"
   ],
   "metadata": {
    "collapsed": false
   }
  },
  {
   "cell_type": "code",
   "execution_count": null,
   "outputs": [],
   "source": [
    "len(data_augment)"
   ],
   "metadata": {
    "collapsed": false
   }
  },
  {
   "cell_type": "code",
   "execution_count": null,
   "outputs": [],
   "source": [
    "data_augment[0]"
   ],
   "metadata": {
    "collapsed": false
   }
  },
  {
   "cell_type": "code",
   "execution_count": 16,
   "outputs": [
    {
     "name": "stderr",
     "output_type": "stream",
     "text": [
      "tokenizing: 100%|██████████| 559820/559820 [05:00<00:00, 1861.87it/s]\n"
     ]
    },
    {
     "name": "stdout",
     "output_type": "stream",
     "text": [
      "Cutted: 0\n"
     ]
    },
    {
     "name": "stderr",
     "output_type": "stream",
     "text": [
      "tokenizing: 100%|██████████| 160749/160749 [02:25<00:00, 1106.91it/s]\n"
     ]
    },
    {
     "name": "stdout",
     "output_type": "stream",
     "text": [
      "Cutted: 0\n"
     ]
    },
    {
     "name": "stderr",
     "output_type": "stream",
     "text": [
      "tokenizing: 100%|██████████| 79175/79175 [01:18<00:00, 1005.16it/s]\n"
     ]
    },
    {
     "name": "stdout",
     "output_type": "stream",
     "text": [
      "Cutted: 0\n"
     ]
    }
   ],
   "source": [
    "save_as_train_test_valid_data(\"/home/kirrog/projects/CheckerApp/dataset\", \"aug\", data_augment)"
   ],
   "metadata": {
    "collapsed": false
   }
  },
  {
   "cell_type": "code",
   "execution_count": null,
   "outputs": [],
   "source": [
    "d = np.zeros((10, 10), dtype=np.uint16)"
   ],
   "metadata": {
    "collapsed": false
   }
  },
  {
   "cell_type": "code",
   "source": [
    "!pip install labml == 0.4.125"
   ],
   "metadata": {
    "colab": {
     "base_uri": "https://localhost:8080/"
    },
    "id": "i65_SKjTeM73",
    "outputId": "08c3a117-09fc-4b05-a92e-fad9ccad7b95"
   },
   "execution_count": null,
   "outputs": []
  },
  {
   "cell_type": "code",
   "source": [
    "!pip install transformers == 4.7.0"
   ],
   "metadata": {
    "colab": {
     "base_uri": "https://localhost:8080/"
    },
    "id": "SERDfJ4ffAkP",
    "outputId": "5795f542-df57-421f-83b4-6ec0a5a10cd6"
   },
   "execution_count": null,
   "outputs": []
  },
  {
   "cell_type": "code",
   "source": [
    "import torch\n",
    "\n",
    "torch.cuda.is_available()"
   ],
   "metadata": {
    "colab": {
     "base_uri": "https://localhost:8080/"
    },
    "id": "F0Lay925hdkw",
    "outputId": "9db6ddbd-b200-45a0-d4cf-fc4533954f94"
   },
   "execution_count": null,
   "outputs": []
  },
  {
   "cell_type": "code",
   "source": [
    "!cd / content / drive / MyDrive / punct & python / content / drive / MyDrive / punct / train.py \\\n",
    "    --model-name repunct-model \\\n",
    "    --pretrained-model DeepPavlov / rubert-base-cased-sentence \\\n",
    "    --targets S CM D EL EX Q CL \\\n",
    "    --train-data / content / drive / MyDrive / punct / lenta_res_train.tsv \\\n",
    "    --val-data / content / drive / MyDrive / punct / lenta_res_valid.tsv \\\n",
    "    --test-data / content / drive / MyDrive / punct / lenta_res_test.tsv \\\n",
    "    --store-best-weights \\\n",
    "    --epoch 7 \\\n",
    "    --batch-size 4 \\\n",
    "    --augment-rate 0.15 \\\n",
    "    --labml \\\n",
    "    --seed 1 \\\n",
    "    --cuda \\\n",
    "    --save-dir / content / drive / MyDrive / punct / models"
   ],
   "metadata": {
    "colab": {
     "base_uri": "https://localhost:8080/"
    },
    "id": "5v8zBOMUch1r",
    "outputId": "48266375-847a-4e50-e996-87e4d0235442"
   },
   "execution_count": null,
   "outputs": []
  }
 ]
}
